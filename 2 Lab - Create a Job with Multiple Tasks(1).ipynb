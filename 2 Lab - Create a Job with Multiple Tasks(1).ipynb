{
 "cells": [
  {
   "cell_type": "markdown",
   "metadata": {
    "application/vnd.databricks.v1+cell": {
     "cellMetadata": {},
     "inputWidgets": {},
     "nuid": "c69f4cb1-cb4b-40b0-81b9-3a24f16b183c",
     "showTitle": false,
     "tableResultSettingsMap": {},
     "title": ""
    }
   },
   "source": [
    "\n",
    "<div style=\"text-align: center; line-height: 0; padding-top: 9px;\">\n",
    "  <img src=\"https://databricks.com/wp-content/uploads/2018/03/db-academy-rgb-1200px.png\" alt=\"Databricks Learning\">\n",
    "</div>\n"
   ]
  },
  {
   "cell_type": "markdown",
   "metadata": {
    "application/vnd.databricks.v1+cell": {
     "cellMetadata": {},
     "inputWidgets": {},
     "nuid": "b68234ed-83a3-48c5-b62b-2e272af047af",
     "showTitle": false,
     "tableResultSettingsMap": {},
     "title": ""
    }
   },
   "source": [
    "# 2 Lab - Create a Job with Multiple Tasks\n",
    "### Duration: ~15 minutes\n",
    "\n",
    "\n",
    "In this lab, you'll be configuring a multi-task job comprising of three notebooks.\n",
    "\n",
    "## Learning Objectives\n",
    "By the end of this lab, you should be able to:\n",
    "* Schedule a notebook as a task in a Databricks Job\n",
    "* Configure linear dependencies between tasks using the Databricks Workflows UI"
   ]
  },
  {
   "cell_type": "markdown",
   "metadata": {
    "application/vnd.databricks.v1+cell": {
     "cellMetadata": {},
     "inputWidgets": {},
     "nuid": "4e7e36bb-5355-4771-8365-214c1b6d396d",
     "showTitle": false,
     "tableResultSettingsMap": {},
     "title": ""
    }
   },
   "source": [
    "## A. Classroom Setup\n",
    "\n",
    "Run the following cell to configure your working environment for this course. It will also set your default catalog to **dbacademy** and the schema to your specific schema name shown below using the `USE` statements.\n",
    "<br></br>\n",
    "```\n",
    "USE CATALOG dbacademy;\n",
    "USE SCHEMA dbacademy.<your unique schema name>;\n",
    "```\n",
    "\n",
    "**NOTE:** The **DA** object is only used in Databricks Academy courses and is not available outside of these courses."
   ]
  },
  {
   "cell_type": "markdown",
   "metadata": {
    "application/vnd.databricks.v1+cell": {
     "cellMetadata": {},
     "inputWidgets": {},
     "nuid": "6d47d14c-a87d-489b-b262-e6cbd6d060f3",
     "showTitle": false,
     "tableResultSettingsMap": {},
     "title": ""
    }
   },
   "source": [
    "## REQUIRED - SELECT CLASSIC COMPUTE\n",
    "\n",
    "Before executing cells in this notebook, please select your classic compute cluster in the lab. Be aware that **Serverless** is enabled by default.\n",
    "\n",
    "Follow these steps to select the classic compute cluster:\n",
    "\n",
    "\n",
    "1. Navigate to the top-right of this notebook and click the drop-down menu to select your cluster. By default, the notebook will use **Serverless**.\n",
    "\n",
    "2. If your cluster is available, select it and continue to the next cell. If the cluster is not shown:\n",
    "\n",
    "   - Click **More** in the drop-down.\n",
    "\n",
    "   - In the **Attach to an existing compute resource** window, use the first drop-down to select your unique cluster.\n",
    "\n",
    "**NOTE:** If your cluster has terminated, you might need to restart it in order to select it. To do this:\n",
    "\n",
    "1. Right-click on **Compute** in the left navigation pane and select *Open in new tab*.\n",
    "\n",
    "2. Find the triangle icon to the right of your compute cluster name and click it.\n",
    "\n",
    "3. Wait a few minutes for the cluster to start.\n",
    "\n",
    "4. Once the cluster is running, complete the steps above to select your cluster."
   ]
  },
  {
   "cell_type": "code",
   "execution_count": 0,
   "metadata": {
    "application/vnd.databricks.v1+cell": {
     "cellMetadata": {
      "byteLimit": 2048000,
      "rowLimit": 10000
     },
     "inputWidgets": {},
     "nuid": "7f79472d-8f14-4630-81e8-2c59e09dcad3",
     "showTitle": false,
     "tableResultSettingsMap": {},
     "title": ""
    }
   },
   "outputs": [
    {
     "output_type": "stream",
     "name": "stdout",
     "output_type": "stream",
     "text": [
      "\u001B[43mNote: you may need to restart the kernel using %restart_python or dbutils.library.restartPython() to use updated packages.\u001B[0m\n"
     ]
    },
    {
     "output_type": "display_data",
     "data": {
      "text/html": [
       "<table style=\"width:100%\">\n",
       "            <tr>\n",
       "                <td style=\"white-space:nowrap; width:1em\">Course Catalog:</td>\n",
       "                <td><input type=\"text\" value=\"dbacademy\" style=\"width: 100%\"></td></tr>\n",
       "            <tr>\n",
       "                <td style=\"white-space:nowrap; width:1em\">Your Schema:</td>\n",
       "                <td><input type=\"text\" value=\"labuser10996598_1753268103\" style=\"width: 100%\"></td></tr></table>"
      ]
     },
     "metadata": {},
     "output_type": "display_data"
    }
   ],
   "source": [
    "%run ./Includes/Classroom-Setup-2L"
   ]
  },
  {
   "cell_type": "markdown",
   "metadata": {
    "application/vnd.databricks.v1+cell": {
     "cellMetadata": {},
     "inputWidgets": {},
     "nuid": "9e796dd8-2621-4117-9db0-76644e4c1d74",
     "showTitle": false,
     "tableResultSettingsMap": {},
     "title": ""
    }
   },
   "source": [
    "## B. Generate Job Configuration\n",
    "1. Run the cell below to print out the values you'll use to configure your pipeline in subsequent steps. Make sure to specify the correct job name and notebooks."
   ]
  },
  {
   "cell_type": "code",
   "execution_count": 0,
   "metadata": {
    "application/vnd.databricks.v1+cell": {
     "cellMetadata": {
      "byteLimit": 2048000,
      "rowLimit": 10000
     },
     "inputWidgets": {},
     "nuid": "504bbf4b-3164-46e1-aa89-bff10d551a89",
     "showTitle": false,
     "tableResultSettingsMap": {},
     "title": ""
    }
   },
   "outputs": [
    {
     "output_type": "display_data",
     "data": {
      "text/html": [
       "<table style=\"width:100%\">\n",
       "            <tr>\n",
       "                <td style=\"white-space:nowrap; width:1em\">Job Name:</td>\n",
       "                <td><input type=\"text\" value=\"labuser10996598_1753268103_Lesson_02\" style=\"width: 100%\"></td></tr>\n",
       "            <tr>\n",
       "                <td style=\"white-space:nowrap; width:1em\">Notebook #1:</td>\n",
       "                <td><input type=\"text\" value=\"/Workspace/Users/labuser10996598_1753268103@vocareum.com/deploy-workloads-with-lakeflow-jobs-3.0.1/Deploy Workloads with Lakeflow Jobs/Task Notebooks/Lesson 2 Notebooks/2.01 - Ingest CSV\" style=\"width: 100%\"></td></tr>\n",
       "            <tr>\n",
       "                <td style=\"white-space:nowrap; width:1em\">Notebook #2:</td>\n",
       "                <td><input type=\"text\" value=\"/Workspace/Users/labuser10996598_1753268103@vocareum.com/deploy-workloads-with-lakeflow-jobs-3.0.1/Deploy Workloads with Lakeflow Jobs/Task Notebooks/Lesson 2 Notebooks/2.02 - Create Invalid Region Table\" style=\"width: 100%\"></td></tr>\n",
       "            <tr>\n",
       "                <td style=\"white-space:nowrap; width:1em\">Notebook #3:</td>\n",
       "                <td><input type=\"text\" value=\"/Workspace/Users/labuser10996598_1753268103@vocareum.com/deploy-workloads-with-lakeflow-jobs-3.0.1/Deploy Workloads with Lakeflow Jobs/Task Notebooks/Lesson 2 Notebooks/2.02 - Create Valid Region Table\" style=\"width: 100%\"></td></tr></table>"
      ]
     },
     "metadata": {},
     "output_type": "display_data"
    }
   ],
   "source": [
    "DA.print_job_config(\n",
    "    job_name_extension='Lesson_02',\n",
    "    notebook_paths='/Task Notebooks/Lesson 2 Notebooks',\n",
    "    notebooks=[\n",
    "        '2.01 - Ingest CSV',\n",
    "        '2.02 - Create Invalid Region Table',\n",
    "        '2.02 - Create Valid Region Table'\n",
    "    ],\n",
    "    job_tasks={\n",
    "        'Ingest_CSV': [],\n",
    "        'Create_Invalid_Region_Table': ['Ingest_CSV'],\n",
    "        'Create_Valid_Region_Table': ['Ingest_CSV']\n",
    "    },\n",
    "    check_task_dependencies = True\n",
    ")"
   ]
  },
  {
   "cell_type": "markdown",
   "metadata": {
    "application/vnd.databricks.v1+cell": {
     "cellMetadata": {},
     "inputWidgets": {},
     "nuid": "c7173d9b-59b8-4fd4-9f02-85b1d1fcf599",
     "showTitle": false,
     "tableResultSettingsMap": {},
     "title": ""
    }
   },
   "source": [
    "## C. Configure a Job With Multiple Tasks\n",
    "The job will complete three simple tasks:\n",
    "\n",
    "1. (Notebook #1) Ingest a CSV file and create the **customers_bronze** table in your schema.\n",
    "2. (Notebook #2) Create a table called **customers_invalid_region** in your schema.\n",
    "3. (Notebook #3) Create a table called **customers_valid_region** in your schema."
   ]
  },
  {
   "cell_type": "markdown",
   "metadata": {
    "application/vnd.databricks.v1+cell": {
     "cellMetadata": {},
     "inputWidgets": {},
     "nuid": "bfc89ab8-cb49-414b-9b95-cb057a7173d5",
     "showTitle": false,
     "tableResultSettingsMap": {},
     "title": ""
    }
   },
   "source": [
    "### C1. Add a Single Notebook Task\n",
    "\n",
    "Let's start by scheduling the first notebook [./Task Notebooks/Lesson 2 Notebooks/2.01 - Ingest CSV]($./Task Notebooks/Lesson 2 Notebooks/2.01 - Ingest CSV) notebook. Click the hotlink in previous sentence to review the code.\n",
    "\n",
    "The notebook creates a table named **customers_bronze** in your schema from the CSV file in the volume */Volumes/dbacademy_retail/v01/source_files/customers.csv*. \n",
    "\n",
    "1. Right click on the **Jobs and Pipelines** button on the sidebar and select *Open Link in New Tab*. \n",
    "\n",
    "2. Select the **Jobs & Pipeline** tab, and then click the **Create** button and **choose Job from the dropdown**.\n",
    "\n",
    "3. In the top-left of the screen, enter the **Job Name** provided above to add a name for the job (must use the job name specified above).\n",
    "\n",
    "4. Configure the task as specified below. You'll need the values provided in the cell output above for this step.\n",
    "\n",
    "\n",
    "| Setting | Instructions |\n",
    "|--|--|\n",
    "| Task name | Enter **Ingest_CSV** |\n",
    "| Type | Choose **Notebook** |\n",
    "| Source | Choose **Workspace** |\n",
    "| Path | Use the navigator to specify the **Notebook #1** path provided above (notebook **Task Notebooks/Lesson 2 Notebooks/2.01 - Ingest CSV**) |\n",
    "| Compute | From the dropdown menu, select a **Serverless** cluster (We will be using Serverless clusters for jobs in this course. You can also specify a different cluster if required outside of this course) |\n",
    "\n",
    "**NOTE**: When selecting your all-purpose cluster, you may get a warning about how this will be billed as all-purpose compute. Production jobs should always be scheduled against new job clusters appropriately sized for the workload, as this is billed at a much lower rate.\n",
    "<br>\n",
    "\n",
    "![Job Demo 1](./Includes/images/Lesson02_Lab_OneTask.png)\n",
    "\n",
    "5. Click the **Create task** button.\n",
    "\n",
    "6. Click the blue **Run now** button in the top right to start the job.\n",
    "\n",
    "7. Select the **Runs** tab in the navigation bar and verify that the job completes successfully.\n",
    "\n",
    "![Job Demo 1](./Includes/images/Lesson02_Lab_OneTaskSuccess.png)\n",
    "\n",
    "8. From **Catalog**, navigate to your schema in the **dbacademy** catalog and confirm the table **customers_bronze** was created (you might have refresh your schema)."
   ]
  },
  {
   "cell_type": "markdown",
   "metadata": {
    "application/vnd.databricks.v1+cell": {
     "cellMetadata": {},
     "inputWidgets": {},
     "nuid": "5e7c4144-6e72-46fd-a60d-60bdcaa38cba",
     "showTitle": false,
     "tableResultSettingsMap": {},
     "title": ""
    }
   },
   "source": [
    "### C2. Add the Second Task to the Job\n",
    "\n",
    "Now, configure a second task that depends on the first task, **Ingest_CSV** successfully completing. The second task will be the notebook [./Task Notebooks/Lesson 2 Notebooks/2.02 - Create Invalid Table]($./Task Notebooks/Lesson 2 Notebooks/2.02 - Create Invalid Region Table). Open the notebook and review the code.\n",
    "\n",
    "The notebook creates a table named **customers_invalid_region** in your schema from the **customers_bronze** table created from the previous task.\n",
    "\n",
    "Steps:\n",
    "1. Go back to your job. On the Job details page, click the **Tasks** tab.\n",
    "\n",
    "2. Click the blue **+ Add task** button at the center bottom of the screen and select **Notebook** in the dropdown menu.\n",
    "\n",
    "3. Configure the task:\n",
    "\n",
    "| Setting | Instructions |\n",
    "|--|--|\n",
    "| Task name | Enter **Create_Invalid_Region_Table** |\n",
    "| Type | Choose **Notebook** |\n",
    "| Source | Choose **Workspace** |\n",
    "| Path | Use the navigator to specify the **Notebook #2** path provided above (notebook **Task Notebooks/Lesson 2 Notebooks/2.02 - Create Invalid Region Table**) |\n",
    "| Compute | From the dropdown menu, select a **Serverless** cluster (We will be using Serverless clusters for jobs in this course. You can also specify a different cluster if required outside of this course) |\n",
    "| Depends on | Verify **Ingest_CSV** (the previous task we defined) is listed |\n",
    "\n",
    "<br>\n",
    "\n",
    "4. Click the blue **Create task** button\n",
    "\n",
    "<br></br>\n",
    "![Job Demo 1](./Includes/images/Lesson02_Lab_TwoTasks.png)"
   ]
  },
  {
   "cell_type": "markdown",
   "metadata": {
    "application/vnd.databricks.v1+cell": {
     "cellMetadata": {},
     "inputWidgets": {},
     "nuid": "6f671b89-83b6-4eee-9686-5b48d7dac3ba",
     "showTitle": false,
     "tableResultSettingsMap": {},
     "title": ""
    }
   },
   "source": [
    "### C3. Add the Third Task to the Job\n",
    "\n",
    "Now, configure a third task that depends on the **Ingest_CSV** successfully completing. The third task will be the notebook [./Task Notebooks/Lesson 2 Notebooks/2.03 - Create Valid Table]($./Task Notebooks/Lesson 2 Notebooks/2.02 - Create Valid Region Table). \n",
    "\n",
    "The notebook creates a table named **customers_valid_region** in your schema from the **customers_bronze** table created from the first task.\n",
    "\n",
    "Steps:\n",
    "1. On the Job details page, confirm you are on the **Tasks** tab.\n",
    "\n",
    "2. Click on the **Ingest_CSV** tasks.\n",
    "\n",
    "3. Click the blue **+ Add task** button at the center bottom of the screen and select **Notebook** in the dropdown menu.\n",
    "\n",
    "4. Configure the task:\n",
    "\n",
    "| Setting | Instructions |\n",
    "|--|--|\n",
    "| Task name | Enter **Create_Valid_Region_Table** |\n",
    "| Type | Choose **Notebook** |\n",
    "| Source | Choose **Workspace** |\n",
    "| Path | Use the navigator to specify the **Notebook #3** path provided above (notebook **Task Notebooks/Lesson 2 Notebooks/2.02 - Create Valid Region Table**) |\n",
    "| Compute | From the dropdown menu, select a **Serverless** cluster (We will be using Serverless clusters for jobs in this course. You can also specify a different cluster if required outside of this course) |\n",
    "| Depends on | Remove current **Depends on** task and replace with **Ingest_CSV** (the previous task we defined) is listed |\n",
    "\n",
    "5. Click the blue **Create task** button\n",
    "\n",
    "<br></br>\n",
    "![Job Demo 1](./Includes/images/Lesson02_Lab_ThreeTasks.png)"
   ]
  },
  {
   "cell_type": "markdown",
   "metadata": {
    "application/vnd.databricks.v1+cell": {
     "cellMetadata": {},
     "inputWidgets": {},
     "nuid": "93d8d85e-8b2d-4149-a9f7-926650a5cad5",
     "showTitle": false,
     "tableResultSettingsMap": {},
     "title": ""
    }
   },
   "source": [
    "## D. Verify the Job is Configured Correctly\n",
    "Run the cell below to check if you configured the job correctly. Modify any errors. \n",
    "\n",
    "**NOTE:** Errors include naming inconsistencies. If an error is returned and the job is setup it correctly it still should run. Feel free to try it and view the job run."
   ]
  },
  {
   "cell_type": "code",
   "execution_count": 0,
   "metadata": {
    "application/vnd.databricks.v1+cell": {
     "cellMetadata": {
      "byteLimit": 2048000,
      "rowLimit": 10000
     },
     "inputWidgets": {},
     "nuid": "7db50385-03df-451a-8715-89bc57708080",
     "showTitle": false,
     "tableResultSettingsMap": {},
     "title": ""
    }
   },
   "outputs": [
    {
     "output_type": "display_data",
     "data": {
      "text/plain": [
       "\u001B[0;31m---------------------------------------------------------------------------\u001B[0m\n",
       "\u001B[0;31mAssertionError\u001B[0m                            Traceback (most recent call last)\n",
       "File \u001B[0;32m<command-1491943234049648>, line 1\u001B[0m\n",
       "\u001B[0;32m----> 1\u001B[0m DA\u001B[38;5;241m.\u001B[39mvalidate_job_config()\n",
       "\n",
       "File \u001B[0;32m<command-1491943234049727>, line 11\u001B[0m, in \u001B[0;36mvalidate_job_config\u001B[0;34m(self)\u001B[0m\n",
       "\u001B[1;32m      8\u001B[0m \u001B[38;5;28mself\u001B[39m\u001B[38;5;241m.\u001B[39mget_job_id()\n",
       "\u001B[1;32m     10\u001B[0m \u001B[38;5;66;03m## Gets Job Name and check for Job Name\u001B[39;00m\n",
       "\u001B[0;32m---> 11\u001B[0m \u001B[38;5;28mself\u001B[39m\u001B[38;5;241m.\u001B[39mvalidate_job_name()\n",
       "\u001B[1;32m     13\u001B[0m \u001B[38;5;66;03m## Gets notebooks in job and checks\u001B[39;00m\n",
       "\u001B[1;32m     14\u001B[0m \u001B[38;5;28mself\u001B[39m\u001B[38;5;241m.\u001B[39mvalidate_job_notebooks()\n",
       "\n",
       "File \u001B[0;32m<command-1491943234049724>, line 8\u001B[0m, in \u001B[0;36mvalidate_job_name\u001B[0;34m(self)\u001B[0m\n",
       "\u001B[1;32m      6\u001B[0m \u001B[38;5;28;01mif\u001B[39;00m \u001B[38;5;28mself\u001B[39m\u001B[38;5;241m.\u001B[39mcurrent_job_id \u001B[38;5;241m==\u001B[39m \u001B[38;5;28;01mNone\u001B[39;00m :\n",
       "\u001B[1;32m      7\u001B[0m     name_not_found \u001B[38;5;241m=\u001B[39m \u001B[38;5;28;01mFalse\u001B[39;00m\n",
       "\u001B[0;32m----> 8\u001B[0m     \u001B[38;5;28;01massert\u001B[39;00m name_not_found, \u001B[38;5;124mf\u001B[39m\u001B[38;5;124m'\u001B[39m\u001B[38;5;124mCould not find a job named \u001B[39m\u001B[38;5;132;01m{\u001B[39;00m\u001B[38;5;28mself\u001B[39m\u001B[38;5;241m.\u001B[39muser_required_job_name\u001B[38;5;132;01m}\u001B[39;00m\u001B[38;5;124m. Please name the job the that was specified in the notebook.\u001B[39m\u001B[38;5;124m'\u001B[39m\n",
       "\u001B[1;32m      9\u001B[0m \u001B[38;5;28;01melse\u001B[39;00m :\n",
       "\u001B[1;32m     10\u001B[0m     \u001B[38;5;28mprint\u001B[39m(\u001B[38;5;124mf\u001B[39m\u001B[38;5;124m'\u001B[39m\u001B[38;5;124m2. Required job name \u001B[39m\u001B[38;5;132;01m{\u001B[39;00m\u001B[38;5;28mself\u001B[39m\u001B[38;5;241m.\u001B[39muser_required_job_name\u001B[38;5;132;01m}\u001B[39;00m\u001B[38;5;124m has been found.\u001B[39m\u001B[38;5;124m'\u001B[39m)\n",
       "\n",
       "\u001B[0;31mAssertionError\u001B[0m: Could not find a job named labuser10996598_1753268103_Lesson_02. Please name the job the that was specified in the notebook."
      ]
     },
     "metadata": {
      "application/vnd.databricks.v1+output": {
       "addedWidgets": {},
       "arguments": {},
       "datasetInfos": [],
       "jupyterProps": {
        "ename": "AssertionError",
        "evalue": "Could not find a job named labuser10996598_1753268103_Lesson_02. Please name the job the that was specified in the notebook."
       },
       "metadata": {
        "errorSummary": "<span class='ansi-red-fg'>AssertionError</span>: Could not find a job named labuser10996598_1753268103_Lesson_02. Please name the job the that was specified in the notebook."
       },
       "removedWidgets": [],
       "sqlProps": null,
       "stackFrames": [
        "\u001B[0;31m---------------------------------------------------------------------------\u001B[0m",
        "\u001B[0;31mAssertionError\u001B[0m                            Traceback (most recent call last)",
        "File \u001B[0;32m<command-1491943234049648>, line 1\u001B[0m\n\u001B[0;32m----> 1\u001B[0m DA\u001B[38;5;241m.\u001B[39mvalidate_job_config()\n",
        "File \u001B[0;32m<command-1491943234049727>, line 11\u001B[0m, in \u001B[0;36mvalidate_job_config\u001B[0;34m(self)\u001B[0m\n\u001B[1;32m      8\u001B[0m \u001B[38;5;28mself\u001B[39m\u001B[38;5;241m.\u001B[39mget_job_id()\n\u001B[1;32m     10\u001B[0m \u001B[38;5;66;03m## Gets Job Name and check for Job Name\u001B[39;00m\n\u001B[0;32m---> 11\u001B[0m \u001B[38;5;28mself\u001B[39m\u001B[38;5;241m.\u001B[39mvalidate_job_name()\n\u001B[1;32m     13\u001B[0m \u001B[38;5;66;03m## Gets notebooks in job and checks\u001B[39;00m\n\u001B[1;32m     14\u001B[0m \u001B[38;5;28mself\u001B[39m\u001B[38;5;241m.\u001B[39mvalidate_job_notebooks()\n",
        "File \u001B[0;32m<command-1491943234049724>, line 8\u001B[0m, in \u001B[0;36mvalidate_job_name\u001B[0;34m(self)\u001B[0m\n\u001B[1;32m      6\u001B[0m \u001B[38;5;28;01mif\u001B[39;00m \u001B[38;5;28mself\u001B[39m\u001B[38;5;241m.\u001B[39mcurrent_job_id \u001B[38;5;241m==\u001B[39m \u001B[38;5;28;01mNone\u001B[39;00m :\n\u001B[1;32m      7\u001B[0m     name_not_found \u001B[38;5;241m=\u001B[39m \u001B[38;5;28;01mFalse\u001B[39;00m\n\u001B[0;32m----> 8\u001B[0m     \u001B[38;5;28;01massert\u001B[39;00m name_not_found, \u001B[38;5;124mf\u001B[39m\u001B[38;5;124m'\u001B[39m\u001B[38;5;124mCould not find a job named \u001B[39m\u001B[38;5;132;01m{\u001B[39;00m\u001B[38;5;28mself\u001B[39m\u001B[38;5;241m.\u001B[39muser_required_job_name\u001B[38;5;132;01m}\u001B[39;00m\u001B[38;5;124m. Please name the job the that was specified in the notebook.\u001B[39m\u001B[38;5;124m'\u001B[39m\n\u001B[1;32m      9\u001B[0m \u001B[38;5;28;01melse\u001B[39;00m :\n\u001B[1;32m     10\u001B[0m     \u001B[38;5;28mprint\u001B[39m(\u001B[38;5;124mf\u001B[39m\u001B[38;5;124m'\u001B[39m\u001B[38;5;124m2. Required job name \u001B[39m\u001B[38;5;132;01m{\u001B[39;00m\u001B[38;5;28mself\u001B[39m\u001B[38;5;241m.\u001B[39muser_required_job_name\u001B[38;5;132;01m}\u001B[39;00m\u001B[38;5;124m has been found.\u001B[39m\u001B[38;5;124m'\u001B[39m)\n",
        "\u001B[0;31mAssertionError\u001B[0m: Could not find a job named labuser10996598_1753268103_Lesson_02. Please name the job the that was specified in the notebook."
       ],
       "type": "baseError"
      }
     },
     "output_type": "display_data"
    }
   ],
   "source": [
    "DA.validate_job_config()"
   ]
  },
  {
   "cell_type": "markdown",
   "metadata": {
    "application/vnd.databricks.v1+cell": {
     "cellMetadata": {},
     "inputWidgets": {},
     "nuid": "04a085cd-2dbd-4bfd-a7be-c9e8bf4ba5ae",
     "showTitle": false,
     "tableResultSettingsMap": {},
     "title": ""
    }
   },
   "source": [
    "## E. Run the Job\n",
    "1. Click the blue **Run now** button in the top right to run this job. It should take a few minutes to complete.\n",
    "\n",
    "2. From the **Runs** tab, you will be able to click on the start time for this run under the **Active runs** section and visually track task progress.\n",
    "\n",
    "3. On the **Runs** tab confirm that the job completed successfully.\n",
    "\n",
    "<br></br>\n",
    "![Job Demo 1](./Includes/images/Lesson02_Lab_SuccessRun.png)"
   ]
  },
  {
   "cell_type": "markdown",
   "metadata": {
    "application/vnd.databricks.v1+cell": {
     "cellMetadata": {},
     "inputWidgets": {},
     "nuid": "6cc49408-838b-4bc1-b7ca-1cac5a6804bd",
     "showTitle": false,
     "tableResultSettingsMap": {},
     "title": ""
    }
   },
   "source": [
    "## F. View the New Tables\n",
    "1. In the left pane, select **Catalog**.\n",
    "\n",
    "2. Expand the **dbacademy** catalog.\n",
    "\n",
    "3. Expand your unique schema name.\n",
    "\n",
    "4. Confirm that the job created the following tables:\n",
    "  - **customers_bronze**\n",
    "  - **customers_invalid_region**\n",
    "  - **customers_valid_region**"
   ]
  },
  {
   "cell_type": "markdown",
   "metadata": {
    "application/vnd.databricks.v1+cell": {
     "cellMetadata": {},
     "inputWidgets": {},
     "nuid": "06efc381-e88b-489c-9882-0df89bd8aa73",
     "showTitle": false,
     "tableResultSettingsMap": {},
     "title": ""
    }
   },
   "source": [
    "You can also use the `SHOW TABLES` statement to view available tables in your schema."
   ]
  },
  {
   "cell_type": "code",
   "execution_count": 0,
   "metadata": {
    "application/vnd.databricks.v1+cell": {
     "cellMetadata": {
      "byteLimit": 2048000,
      "implicitDf": true,
      "rowLimit": 10000
     },
     "inputWidgets": {},
     "nuid": "48aea203-0344-423a-bc68-703157fc153a",
     "showTitle": false,
     "tableResultSettingsMap": {},
     "title": ""
    }
   },
   "outputs": [
    {
     "output_type": "display_data",
     "data": {
      "text/html": [
       "<style scoped>\n",
       "  .table-result-container {\n",
       "    max-height: 300px;\n",
       "    overflow: auto;\n",
       "  }\n",
       "  table, th, td {\n",
       "    border: 1px solid black;\n",
       "    border-collapse: collapse;\n",
       "  }\n",
       "  th, td {\n",
       "    padding: 5px;\n",
       "  }\n",
       "  th {\n",
       "    text-align: left;\n",
       "  }\n",
       "</style><div class='table-result-container'><table class='table-result'><thead style='background-color: white'><tr><th>database</th><th>tableName</th><th>isTemporary</th></tr></thead><tbody><tr><td>labuser10996598_1753268103</td><td>customers_bronze</td><td>false</td></tr><tr><td>labuser10996598_1753268103</td><td>customers_invalid_region</td><td>false</td></tr><tr><td>labuser10996598_1753268103</td><td>customers_valid_region</td><td>false</td></tr></tbody></table></div>"
      ]
     },
     "metadata": {
      "application/vnd.databricks.v1+output": {
       "addedWidgets": {},
       "aggData": [],
       "aggError": "",
       "aggOverflow": false,
       "aggSchema": [],
       "aggSeriesLimitReached": false,
       "aggType": "",
       "arguments": {},
       "columnCustomDisplayInfos": {},
       "data": [
        [
         "labuser10996598_1753268103",
         "customers_bronze",
         false
        ],
        [
         "labuser10996598_1753268103",
         "customers_invalid_region",
         false
        ],
        [
         "labuser10996598_1753268103",
         "customers_valid_region",
         false
        ]
       ],
       "datasetInfos": [
        {
         "name": "_sqldf",
         "schema": {
          "fields": [
           {
            "metadata": {},
            "name": "database",
            "nullable": false,
            "type": "string"
           },
           {
            "metadata": {},
            "name": "tableName",
            "nullable": false,
            "type": "string"
           },
           {
            "metadata": {},
            "name": "isTemporary",
            "nullable": false,
            "type": "boolean"
           }
          ],
          "type": "struct"
         },
         "tableIdentifier": null,
         "typeStr": "pyspark.sql.dataframe.DataFrame"
        }
       ],
       "dbfsResultPath": null,
       "isJsonSchema": true,
       "metadata": {
        "createTempViewForImplicitDf": true,
        "dataframeName": "_sqldf",
        "executionCount": 16
       },
       "overflow": false,
       "plotOptions": {
        "customPlotOptions": {},
        "displayType": "table",
        "pivotAggregation": null,
        "pivotColumns": null,
        "xColumns": null,
        "yColumns": null
       },
       "removedWidgets": [],
       "schema": [
        {
         "metadata": "{}",
         "name": "database",
         "type": "\"string\""
        },
        {
         "metadata": "{}",
         "name": "tableName",
         "type": "\"string\""
        },
        {
         "metadata": "{}",
         "name": "isTemporary",
         "type": "\"boolean\""
        }
       ],
       "type": "table"
      }
     },
     "output_type": "display_data"
    }
   ],
   "source": [
    "%sql\n",
    "SHOW TABLES;"
   ]
  },
  {
   "cell_type": "markdown",
   "metadata": {
    "application/vnd.databricks.v1+cell": {
     "cellMetadata": {},
     "inputWidgets": {},
     "nuid": "c52487a2-18fd-43d2-b64d-bbdaac3054ac",
     "showTitle": false,
     "tableResultSettingsMap": {},
     "title": ""
    }
   },
   "source": [
    "\n",
    "&copy; 2025 Databricks, Inc. All rights reserved. Apache, Apache Spark, Spark, the Spark Logo, Apache Iceberg, Iceberg, and the Apache Iceberg logo are trademarks of the <a href=\"https://www.apache.org/\" target=\"blank\">Apache Software Foundation</a>.<br/>\n",
    "<br/><a href=\"https://databricks.com/privacy-policy\" target=\"blank\">Privacy Policy</a> | \n",
    "<a href=\"https://databricks.com/terms-of-use\" target=\"blank\">Terms of Use</a> | \n",
    "<a href=\"https://help.databricks.com/\" target=\"blank\">Support</a>"
   ]
  }
 ],
 "metadata": {
  "application/vnd.databricks.v1+notebook": {
   "computePreferences": null,
   "dashboards": [],
   "environmentMetadata": null,
   "inputWidgetPreferences": null,
   "language": "python",
   "notebookMetadata": {
    "mostRecentlyExecutedCommandWithImplicitDF": {
     "commandId": 1491943234049652,
     "dataframes": [
      "_sqldf"
     ]
    },
    "pythonIndentUnit": 4
   },
   "notebookName": "2 Lab - Create a Job with Multiple Tasks",
   "widgets": {}
  },
  "language_info": {
   "name": "python"
  }
 },
 "nbformat": 4,
 "nbformat_minor": 0
}